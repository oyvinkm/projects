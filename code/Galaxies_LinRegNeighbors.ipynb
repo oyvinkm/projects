{
 "cells": [
  {
   "cell_type": "code",
   "execution_count": 1,
   "metadata": {},
   "outputs": [],
   "source": [
    "import csv\n",
    "import numpy\n",
    "import matplotlib.pyplot as plt"
   ]
  },
  {
   "cell_type": "code",
   "execution_count": 2,
   "metadata": {},
   "outputs": [],
   "source": [
    "train_data = numpy.loadtxt(\"data/galaxies_train.csv\", delimiter=\",\", skiprows=1)\n",
    "test_data = numpy.loadtxt(\"data/galaxies_test.csv\", delimiter=\",\", skiprows=1)"
   ]
  },
  {
   "cell_type": "code",
   "execution_count": 3,
   "metadata": {},
   "outputs": [
    {
     "name": "stdout",
     "output_type": "stream",
     "text": [
      "Number of training instances: 500\n",
      "Number of test instances: 500\n",
      "Number of attributes: 10\n"
     ]
    }
   ],
   "source": [
    "X_train = train_data[:,1:]\n",
    "t_train = train_data[:,0]\n",
    "X_test = test_data[:,1:]\n",
    "t_test = test_data[:,0]\n",
    "print(\"Number of training instances: %i\" % X_train.shape[0])\n",
    "print(\"Number of test instances: %i\" % X_test.shape[0])\n",
    "print(\"Number of attributes: %i\" % X_train.shape[1])"
   ]
  },
  {
   "cell_type": "code",
   "execution_count": 4,
   "metadata": {},
   "outputs": [],
   "source": [
    "\n",
    "#Imported code from Exercise 4.1\n",
    "class NearestNeighbor:\n",
    "    \n",
    "    def __init__(self, n_neighbors=1, dist_measure=\"euclidean\", dist_matrix=None):\n",
    "        \"\"\"\n",
    "        Initializes the model.\n",
    "        \n",
    "        Parameters\n",
    "        ----------\n",
    "        n_neighbors : The number of nearest neigbhors (default 1)\n",
    "        dist_measure : The distance measure used (default \"euclidean\")\n",
    "        dist_matrix : The distance matrix if needed (default \"None\")\n",
    "        \"\"\"\n",
    "        \n",
    "        self.n_neighbors = n_neighbors\n",
    "        self.dist_measure = dist_measure\n",
    "        self.dist_matrix = dist_matrix\n",
    "    \n",
    "    def fit(self, X, t):\n",
    "        \"\"\"\n",
    "        Fits the nearest neighbor regression model.\n",
    "\n",
    "        Parameters\n",
    "        ----------\n",
    "        X : Array of shape [n_samples, n_features]\n",
    "        t : Array of length n_samples\n",
    "        \"\"\" \n",
    "        \n",
    "        self.X_train = X\n",
    "        self.t_train = t\n",
    "    \n",
    "    def predict(self, X):\n",
    "        \"\"\"\n",
    "        Computes predictions for a new set of points.\n",
    "\n",
    "        Parameters\n",
    "        ----------\n",
    "        X : Array of shape [n_samples, n_features]\n",
    "\n",
    "        Returns\n",
    "        -------\n",
    "        predictions : Array of length n_samples\n",
    "        \"\"\"         \n",
    "        self.fit(X_train, t_train)\n",
    "        predictions = []\n",
    "        for i in range(len(X)):\n",
    "            linReg = LeastWeigthedSquare(lam=1)\n",
    "            closest = (self.distance(X[i]))\n",
    "            closest = numpy.argsort(closest)\n",
    "            self.X_train = X_train[closest[:self.n_neighbors]]\n",
    "            self.t_train = t_train[closest[:self.n_neighbors]]\n",
    "            linReg.fit(self.X_train, self.t_train)\n",
    "            pred = linReg.predict(X_test[i])\n",
    "            predictions.append(pred[0][0])\n",
    "        predictions = numpy.array(predictions)\n",
    "        return predictions\n",
    "    def distance(self, X_row):\n",
    "        distance = []\n",
    "        for i in range(len(X_train)):\n",
    "            distance.append(self.euclDist(X_row, X_train[i]))\n",
    "        return distance\n",
    "    \n",
    "    def euclDist(self,X,Y):\n",
    "        return numpy.sqrt(numpy.dot((X-Y).T,(X-Y)))\n",
    "    def rmse(self, t, tp):\n",
    "        return numpy.sqrt(numpy.mean((t-tp)**2))   \n",
    "          \n",
    "        \n",
    "        \n"
   ]
  },
  {
   "cell_type": "code",
   "execution_count": 5,
   "metadata": {},
   "outputs": [],
   "source": [
    "class LeastWeigthedSquare:\n",
    "    def __init__ (self, lam=0):\n",
    "        self.lam = lam\n",
    "    # In fit i have reused/taken inspiration from the handed out material linreg.py\n",
    "    # found in MAD2019_L3\n",
    "    def fit (self, X, t):\n",
    "        \n",
    "        X = numpy.array(X).reshape((len(X), -1))\n",
    "        t = numpy.array(t).reshape((len(t), 1))\n",
    "\n",
    "        # prepend a column of ones\n",
    "        ones = numpy.ones((X.shape[0], 1))\n",
    "        X = numpy.concatenate((ones, X), axis=1)\n",
    "        # compute weights (solve system)\n",
    "        diag = self.lam * len(X) * numpy.identity(X.shape[1])\n",
    "        a = numpy.dot(X.T, X) + diag\n",
    "        b = numpy.dot(X.T, t)\n",
    "        self.w = numpy.linalg.solve(a,b)  \n",
    "    def predict(self, X):\n",
    "        \n",
    "        X = numpy.array(X).reshape((len(X), -1))\n",
    "        X = X.T\n",
    "        # prepend a column of ones\n",
    "        ones = numpy.ones((X.shape[0], 1))\n",
    "        X = numpy.concatenate((ones, X), axis=1)           \n",
    "        # compute predictions\n",
    "        predictions = numpy.dot(X, self.w)\n",
    "        return predictions\n",
    "        "
   ]
  },
  {
   "cell_type": "code",
   "execution_count": 6,
   "metadata": {},
   "outputs": [
    {
     "data": {
      "image/png": "[encoded data removed]",
      "text/plain": [
       "<Figure size 432x288 with 1 Axes>"
      ]
     },
     "metadata": {
      "needs_background": "light"
     },
     "output_type": "display_data"
    },
    {
     "name": "stdout",
     "output_type": "stream",
     "text": [
      "RMSE:  0.8925765347348246\n"
     ]
    }
   ],
   "source": [
    "kNearNeigh = NearestNeighbor(n_neighbors=15)\n",
    "predictions = kNearNeigh.predict(X_test)\n",
    "plt.figure()\n",
    "plt.scatter(t_test, predictions, color='purple')\n",
    "plt.title('k-NearestNeighbors')\n",
    "plt.show()\n",
    "print(\"RMSE: \", kNearNeigh.rmse(predictions, t_test))"
   ]
  },
  {
   "cell_type": "code",
   "execution_count": null,
   "metadata": {},
   "outputs": [],
   "source": []
  }
 ],
 "metadata": {
  "kernelspec": {
   "display_name": "Python 3",
   "language": "python",
   "name": "python3"
  },
  "language_info": {
   "codemirror_mode": {
    "name": "ipython",
    "version": 3
   },
   "file_extension": ".py",
   "mimetype": "text/x-python",
   "name": "python",
   "nbconvert_exporter": "python",
   "pygments_lexer": "ipython3",
   "version": "3.7.3"
  }
 },
 "nbformat": 4,
 "nbformat_minor": 2
}
