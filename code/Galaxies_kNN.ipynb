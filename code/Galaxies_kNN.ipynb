{
 "cells": [
  {
   "cell_type": "code",
   "execution_count": 1,
   "metadata": {},
   "outputs": [],
   "source": [
    "import csv\n",
    "import numpy\n",
    "import matplotlib.pyplot as plt"
   ]
  },
  {
   "cell_type": "code",
   "execution_count": 2,
   "metadata": {},
   "outputs": [
    {
     "name": "stdout",
     "output_type": "stream",
     "text": [
      "Number of training instances: 500\n",
      "Number of test instances: 500\n",
      "Number of attributes: 10\n"
     ]
    }
   ],
   "source": [
    "train_data = numpy.loadtxt(\"data/galaxies_train.csv\", delimiter=\",\", skiprows=1)\n",
    "test_data = numpy.loadtxt(\"data/galaxies_test.csv\", delimiter=\",\", skiprows=1)\n",
    "\n",
    "X_train = train_data[:,1:]\n",
    "t_train = train_data[:,0]\n",
    "X_test = test_data[:,1:]\n",
    "t_test = test_data[:,0]\n",
    "print(\"Number of training instances: %i\" % X_train.shape[0])\n",
    "print(\"Number of test instances: %i\" % X_test.shape[0])\n",
    "print(\"Number of attributes: %i\" % X_train.shape[1])\n"
   ]
  },
  {
   "cell_type": "markdown",
   "metadata": {},
   "source": []
  },
  {
   "cell_type": "code",
   "execution_count": 3,
   "metadata": {},
   "outputs": [],
   "source": [
    "\n",
    "\n",
    "class NearestNeighborRegressor:\n",
    "    \n",
    "    def __init__(self, n_neighbors=1, dist_measure=\"euclidean\", dist_matrix=None):\n",
    "        \"\"\"\n",
    "        Initializes the model.\n",
    "        \n",
    "        Parameters\n",
    "        ----------\n",
    "        n_neighbors : The number of nearest neigbhors (default 1)\n",
    "        dist_measure : The distance measure used (default \"euclidean\")\n",
    "        dist_matrix : The distance matrix if needed (default \"None\")\n",
    "        \"\"\"\n",
    "        \n",
    "        self.n_neighbors = n_neighbors\n",
    "        self.dist_measure = dist_measure\n",
    "        self.dist_matrix = dist_matrix\n",
    "    \n",
    "    def fit(self, X, t):\n",
    "        \"\"\"\n",
    "        Fits the nearest neighbor regression model.\n",
    "\n",
    "        Parameters\n",
    "        ----------\n",
    "        X : Array of shape [n_samples, n_features]\n",
    "        t : Array of length n_samples\n",
    "        \"\"\" \n",
    "        \n",
    "        self.X_train = X\n",
    "        self.t_train = t\n",
    "    \n",
    "    def predict(self, X):\n",
    "        \"\"\"\n",
    "        Computes predictions for a new set of points.\n",
    "\n",
    "        Parameters\n",
    "        ----------\n",
    "        X : Array of shape [n_samples, n_features]\n",
    "\n",
    "        Returns\n",
    "        -------\n",
    "        predictions : Array of length n_samples\n",
    "        \"\"\"         \n",
    "        self.fit(X_train, t_train)\n",
    "        predictions = []\n",
    "        for i in range(len(X)):\n",
    "            closest = self.distance(X[i])\n",
    "            closest = numpy.argsort(closest)\n",
    "            predictions.append(numpy.mean(self.t_train[closest[:self.n_neighbors]]))\n",
    "        predictions = numpy.array(predictions)\n",
    "        return predictions\n",
    "    def distance(self, X_row):\n",
    "        distance = []\n",
    "        if (self.dist_measure == \"euclidean\"):\n",
    "            for i in range(len(self.X_train)):\n",
    "                distance.append(self.euclDist(X_row, self.X_train[i]))\n",
    "        elif (self.dist_measure == \"distance\"):\n",
    "            for i in range(len(self.X_train)):\n",
    "                distance.append(self.otherDist(X_row, X_train[i]))\n",
    "        return distance\n",
    "    def euclDist(self,X,Y):\n",
    "        return numpy.sqrt(numpy.dot((X-Y).T,(X-Y)))\n",
    "    #TODO: \n",
    "    def otherDist(self,X,Y):\n",
    "        return numpy.dot(numpy.dot((X-Y).T,self.dist_matrix),(X-Y))\n",
    "    def rmse(self, t, tp):\n",
    "        return numpy.sqrt(numpy.mean((t-tp)**2))   \n",
    "          \n",
    "        \n",
    "        "
   ]
  },
  {
   "cell_type": "code",
   "execution_count": 4,
   "metadata": {},
   "outputs": [
    {
     "data": {
      "image/png": "[encoded data removed]",
      "text/plain": [
       "<Figure size 432x288 with 1 Axes>"
      ]
     },
     "metadata": {
      "needs_background": "light"
     },
     "output_type": "display_data"
    },
    {
     "name": "stdout",
     "output_type": "stream",
     "text": [
      "RMSE(eucledian):  0.8243064553494784\n"
     ]
    },
    {
     "data": {
      "image/png": "[encoded data removed]",
      "text/plain": [
       "<Figure size 432x288 with 1 Axes>"
      ]
     },
     "metadata": {
      "needs_background": "light"
     },
     "output_type": "display_data"
    },
    {
     "name": "stdout",
     "output_type": "stream",
     "text": [
      "RMSE(altDist):  1.0997971796682453\n"
     ]
    }
   ],
   "source": [
    "regKNN = NearestNeighborRegressor(n_neighbors=3)\n",
    "predictions = regKNN.predict(X_test)\n",
    "plt.scatter(t_test,predictions,color='red')\n",
    "plt.show()\n",
    "print(\"RMSE(eucledian): \", regKNN.rmse(t_test, predictions))\n",
    "values = numpy.zeros(10)\n",
    "values[:8] += 0.00001\n",
    "values[8:10] += 1\n",
    "M = numpy.zeros((10,10), float)\n",
    "numpy.fill_diagonal(M,1)\n",
    "M=M*values\n",
    "regNewKNN = NearestNeighborRegressor(n_neighbors=3, dist_measure=\"distance\", dist_matrix = M)\n",
    "newPred = regNewKNN.predict(X_test)\n",
    "plt.scatter(t_test,newPred, color='green')\n",
    "plt.show()\n",
    "print(\"RMSE(altDist): \", regNewKNN.rmse(t_test, newPred))\n"
   ]
  },
  {
   "cell_type": "code",
   "execution_count": null,
   "metadata": {},
   "outputs": [],
   "source": []
  },
  {
   "cell_type": "code",
   "execution_count": null,
   "metadata": {},
   "outputs": [],
   "source": []
  }
 ],
 "metadata": {
  "kernelspec": {
   "display_name": "Python 3",
   "language": "python",
   "name": "python3"
  },
  "language_info": {
   "codemirror_mode": {
    "name": "ipython",
    "version": 3
   },
   "file_extension": ".py",
   "mimetype": "text/x-python",
   "name": "python",
   "nbconvert_exporter": "python",
   "pygments_lexer": "ipython3",
   "version": "3.7.3"
  }
 },
 "nbformat": 4,
 "nbformat_minor": 2
}
