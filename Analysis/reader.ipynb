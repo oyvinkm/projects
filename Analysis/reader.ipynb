{
 "cells": [
  {
   "cell_type": "code",
   "execution_count": null,
   "metadata": {},
   "outputs": [],
   "source": [
    "# 1. Read the CSV file\n",
    "# 2. In the content field, do the following:\n",
    "# - Tokenize and lower-case the text (end result should be an array of tokens where each token is a lexical unit or a punctuation). For example, “He said: ‘Don’t go there!’” => (he, said, :, ‘, don’t, go, there, !, ‘)\n",
    "# - Remove consecutive spaces and new lines\n",
    "# - Find and replace URLs with <URL>\n",
    "# - Find and replace dates with <DATE>\n",
    "# - Find and replace numbers with <NUM>\n",
    "# 3. For the metadata fields:\n",
    "# - Fill all empty fields with a placeholder NULL\n"
   ]
  },
  {
   "cell_type": "code",
   "execution_count": 18,
   "metadata": {},
   "outputs": [],
   "source": [
    "import numpy as np\n",
    "import pandas as pd \n",
    "import re\n",
    "import nltk\n",
    "from nltk.tokenize import TweetTokenizer, ToktokTokenizer\n",
    "from collections import Counter \n",
    "import itertools\n",
    "import matplotlib.pyplot as plt\n",
    "import csv\n"
   ]
  },
  {
   "cell_type": "code",
   "execution_count": 19,
   "metadata": {},
   "outputs": [],
   "source": [
    "#Function to read a csv-file from URL\n",
    "def readUrl(url):\n",
    "    data = pd.read_csv(url)\n",
    "    return data\n",
    "#Function to find and replace URLs with <URL>\n",
    "def swapUrl(line):\n",
    "    urlPattern = r'((http|https)\\:\\/\\/)?[a-zA-Z0-9\\.\\/\\?\\:@\\-_=#]+\\.([a-zA-Z]){2,6}([a-zA-Z0-9\\.\\&\\/\\?\\:@\\-_=#])*'\n",
    "    line = re.sub(urlPattern,' <URL> ', line)\n",
    "    return line\n",
    "#Function to find and replace dates with <DATE>\n",
    "def swapDates(line):\n",
    "    re1 = r'[\\d]{1,2}(th)? [adfjmnos]\\w*[,]?[.]? ([\\d]{2,4})?'\n",
    "    re2 = r'[adfjmnos]\\w*[,]?[.]? [\\d]{1,2}(th)?[,]? ([\\d]{2,4})?'\n",
    "    re3 = r'[adfjmnos]\\w* [\\d]{1,2}[,]?[.]?([\\d]{2,4})?'\n",
    "    re4 = r'[\\d]{1,2}-[\\d]{1,2}-[\\d]{2,4}'\n",
    "    re5 = r'[\\d]{1,2}/[\\d]{1,2}/[\\d]{2,4}'\n",
    "    re6 = r'[\\d]{1,2} [\\d]{1,2} [\\d]{2,4}'\n",
    "    re7 = r'[\\d].{1,2}.[\\d]{1,2}.[\\d]{2,4}'\n",
    "    finReg = [re1, re2, re3, re4, re5, re6, re7]\n",
    "    for reg in finReg:\n",
    "        line = re.sub(reg, ' <DATE> ', line)\n",
    "    return line\n",
    "\n",
    "#Function to find and replace numbers with <NUM>\n",
    "def swapNumb(line):\n",
    "    pattern = r'[\\d]+[,]?([\\d]+)?'\n",
    "    line = re.sub(pattern, ' <NUM> ', line)\n",
    "    return line\n",
    "\n",
    "#Functions to count no. of dates, numbers and url.\n",
    "#Could be done earlier\n",
    "def counter(data):\n",
    "    countDict = {'DATE': 0, 'URL': 0, 'NUM': 0}\n",
    "    for line in data:\n",
    "        for key in countDict:\n",
    "            countDict[key] += line.count('<'+str(key) + '>') \n",
    "    return countDict\n",
    "\n",
    "#Function to count k-most frequent words. \n",
    "def wordCount(content, k):\n",
    "    #Takes the whole content, which is a tokenized list and \n",
    "    # flattens it to one long list.\n",
    "    flatten = list(itertools.chain.from_iterable(content))\n",
    "    # Defines regex for all non-ASCII characters\n",
    "    punct = re.compile(r'\\W')\n",
    "    #Filters out all non-ASCII characters\n",
    "    filtered = filter(lambda i: not punct.search(i), flatten)\n",
    "    #Counts frequency of words\n",
    "    counter = Counter(filtered)\n",
    "    #Returns k-most frequent words\n",
    "    most_freq = counter.most_common(k)\n",
    "    return most_freq\n",
    "\n",
    "    "
   ]
  },
  {
   "cell_type": "code",
   "execution_count": 26,
   "metadata": {},
   "outputs": [
    {
     "data": {
      "image/png": "[encoded data removed]",
      "text/plain": [
       "<Figure size 432x288 with 1 Axes>"
      ]
     },
     "metadata": {
      "needs_background": "light"
     },
     "output_type": "display_data"
    }
   ],
   "source": [
    "rawData = readUrl('https://raw.githubusercontent.com/several27/FakeNewsCorpus/master/news_sample.csv')\n",
    "token = TweetTokenizer()\n",
    "tokenizedList = []\n",
    "for line in rawData['content']:\n",
    "    line = line.lower()\n",
    "    pattern = re.compile(r'\\s+')\n",
    "    line = re.sub(pattern, ' ', line)\n",
    "    line = line.rstrip('\\n')\n",
    "    line = swapUrl(line)\n",
    "    line = swapDates(line)\n",
    "    line = swapNumb(line)\n",
    "    tokenizedList.append(token.tokenize(line))\n",
    "rawData['content'] = tokenizedList\n",
    "metaList = []\n",
    "for line in rawData['meta_keywords']:\n",
    "    if (line ==  \"['']\"):\n",
    "        metaList.append(np.nan)\n",
    "    else: \n",
    "        metaList.append(line)\n",
    "rawData['meta_keywords'] = metaList\n",
    "#Counts DATE,URL & NUM\n",
    "count = counter(rawData['content'])\n",
    "#Counts words\n",
    "counted = wordCount(rawData['content'], 1000)\n",
    "\n",
    "#Attempt to write to csv-file\n",
    "with open('./word.csv','w') as out:\n",
    "    csv_out=csv.writer(out)\n",
    "    csv_out.writerow(['word','freq'])\n",
    "    for row in counted:\n",
    "        csv_out.writerow(row)\n",
    "        \n",
    "indices = np.arange(len(counted[950:]))\n",
    "word, frequency = zip(*counted[950:])\n",
    "plt.bar(indices, frequency, color='r')\n",
    "plt.xticks(indices, word, rotation='vertical')\n",
    "plt.tight_layout()\n",
    "plt.show()\n",
    "    \n",
    "\n",
    "\n",
    "\n",
    "\n",
    "\n",
    "\n"
   ]
  },
  {
   "cell_type": "code",
   "execution_count": 3,
   "metadata": {},
   "outputs": [
    {
     "name": "stdout",
     "output_type": "stream",
     "text": [
      " <URL> \n",
      "['a', 'c', 'jsd', 'd', 'a', 'a', 'c']\n",
      "[('a', 3), ('c', 2)]\n",
      "{'DATE': 4, 'URL': 3, 'NUM': 4}\n"
     ]
    }
   ],
   "source": [
    "#TESTS: \n",
    "\n",
    "test = swapUrl('https://www.youtube.com/watch?v=cJymBJ_5iUg')\n",
    "print(test)\n",
    "dateTest = []\n",
    "dateTest.append(swapDates('17/11/1996'))\n",
    "dateTest.append(swapDates('17 november 1996'))\n",
    "dateTest.append(swapDates('17-11-1996'))\n",
    "dateTest.append(swapDates('17 jun 2018'))\n",
    "dateTest.append(swapDates('nov 17 1996'))\n",
    "dateTest.append(swapDates('january, 15 '))\n",
    "dateTest.append(swapDates('17 november '))\n",
    "dateTest.append(swapDates('jan. 15 2018'))\n",
    "dateTest.append(swapDates('jan 31.2018'))\n",
    "dateTest.append(swapNumb('halla 123 hall 732,189'))\n",
    "t = ['This is a <DATE> and <URL> <URL> comes up <NUM> <NUM> <NUM>', '<DATE> as <DATE> asd <DATE> asd <URL> <NUM>']\n",
    "dictio = counter(t)\n",
    "t = [['a', 'c', 'jsd'], ['d', 'a', 'a', 'c']]\n",
    "print(wordCount(t, 2))\n",
    "print(dictio)\n",
    "#for elm in dateTest:\n",
    "    #print(elm)"
   ]
  },
  {
   "cell_type": "code",
   "execution_count": null,
   "metadata": {},
   "outputs": [],
   "source": []
  },
  {
   "cell_type": "code",
   "execution_count": null,
   "metadata": {},
   "outputs": [],
   "source": []
  }
 ],
 "metadata": {
  "kernelspec": {
   "display_name": "Python 3",
   "language": "python",
   "name": "python3"
  },
  "language_info": {
   "codemirror_mode": {
    "name": "ipython",
    "version": 3
   },
   "file_extension": ".py",
   "mimetype": "text/x-python",
   "name": "python",
   "nbconvert_exporter": "python",
   "pygments_lexer": "ipython3",
   "version": "3.7.4"
  }
 },
 "nbformat": 4,
 "nbformat_minor": 2
}
